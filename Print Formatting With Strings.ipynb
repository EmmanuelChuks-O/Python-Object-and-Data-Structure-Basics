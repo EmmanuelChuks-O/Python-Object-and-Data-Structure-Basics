{
 "cells": [
  {
   "cell_type": "markdown",
   "id": "541b8cda-9488-4cb0-a3a0-f40fb1928880",
   "metadata": {},
   "source": [
    ".format() method"
   ]
  },
  {
   "cell_type": "code",
   "execution_count": 1,
   "id": "13b511de-9527-46cf-bd60-75f8400d0361",
   "metadata": {},
   "outputs": [],
   "source": [
    "my_name = \"Emmanuel Chuks Okoh\""
   ]
  },
  {
   "cell_type": "code",
   "execution_count": 2,
   "id": "5bdba3fe-a130-4b23-b8ef-9416a45b06ff",
   "metadata": {},
   "outputs": [
    {
     "name": "stdout",
     "output_type": "stream",
     "text": [
      "Say your full name out: Emmanuel Chuks Okoh\n"
     ]
    }
   ],
   "source": [
    "print(\"Say your full name out: {}\".format(\"Emmanuel Chuks Okoh\"))"
   ]
  },
  {
   "cell_type": "code",
   "execution_count": 3,
   "id": "c6bf618f-f920-4f96-8946-fa92d4901355",
   "metadata": {},
   "outputs": [
    {
     "name": "stdout",
     "output_type": "stream",
     "text": [
      "Say your full name out: Emmanuel Chuks Okoh\n"
     ]
    }
   ],
   "source": [
    "print(\"Say your full name out: {a}\".format(a = \"Emmanuel Chuks Okoh\"))"
   ]
  },
  {
   "cell_type": "code",
   "execution_count": 4,
   "id": "6a8ad3b5-3e1b-47c0-9e80-d9d8cd27cc2b",
   "metadata": {},
   "outputs": [
    {
     "name": "stdout",
     "output_type": "stream",
     "text": [
      "What is your full name?: Emmanuel Chuks Okoh\n"
     ]
    }
   ],
   "source": [
    "print(f\"What is your full name?: {my_name}\")"
   ]
  },
  {
   "cell_type": "code",
   "execution_count": 5,
   "id": "dd185e7e-b8c1-4e23-bddb-3294fd689df3",
   "metadata": {},
   "outputs": [],
   "source": [
    "my_name = \"Emmanuel Chuks Okoh\"\n",
    "age = 29\n",
    "location = \"Toronto\""
   ]
  },
  {
   "cell_type": "code",
   "execution_count": 6,
   "id": "1399bc5c-0dc1-454a-957d-6526a4d585b9",
   "metadata": {},
   "outputs": [
    {
     "name": "stdout",
     "output_type": "stream",
     "text": [
      "My name is Emmanuel Chuks Okoh, I am 29 years old, and I live in Toronto\n"
     ]
    }
   ],
   "source": [
    "print(f\"My name is {my_name}, I am {age} years old, and I live in {location}\")"
   ]
  },
  {
   "cell_type": "code",
   "execution_count": 7,
   "id": "15a30f01-6aea-4a5a-8c2e-86aab759c6ec",
   "metadata": {},
   "outputs": [],
   "source": [
    "digits = 2.56978"
   ]
  },
  {
   "cell_type": "code",
   "execution_count": 15,
   "id": "2bbd9d13-00bd-44ec-9c29-468370b748f3",
   "metadata": {},
   "outputs": [
    {
     "name": "stdout",
     "output_type": "stream",
     "text": [
      "2.57\n"
     ]
    }
   ],
   "source": [
    "print(f\"{digits:.2f}\")"
   ]
  },
  {
   "cell_type": "code",
   "execution_count": null,
   "id": "08054d91-cfda-457a-a52e-7d8019bc13c4",
   "metadata": {},
   "outputs": [],
   "source": []
  }
 ],
 "metadata": {
  "kernelspec": {
   "display_name": "Python [conda env:base] *",
   "language": "python",
   "name": "conda-base-py"
  },
  "language_info": {
   "codemirror_mode": {
    "name": "ipython",
    "version": 3
   },
   "file_extension": ".py",
   "mimetype": "text/x-python",
   "name": "python",
   "nbconvert_exporter": "python",
   "pygments_lexer": "ipython3",
   "version": "3.12.7"
  }
 },
 "nbformat": 4,
 "nbformat_minor": 5
}
