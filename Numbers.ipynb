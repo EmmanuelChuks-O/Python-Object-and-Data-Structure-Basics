{
 "cells": [
  {
   "cell_type": "markdown",
   "id": "411b87f2-fe14-423d-a8cb-80ca9bf0d969",
   "metadata": {},
   "source": [
    "Addition"
   ]
  },
  {
   "cell_type": "code",
   "execution_count": 1,
   "id": "75d0e740-50f1-497f-af8e-31504071e854",
   "metadata": {},
   "outputs": [
    {
     "data": {
      "text/plain": [
       "7"
      ]
     },
     "execution_count": 1,
     "metadata": {},
     "output_type": "execute_result"
    }
   ],
   "source": [
    "3 + 4"
   ]
  },
  {
   "cell_type": "markdown",
   "id": "f750e107-3050-4223-8bcb-c21bc7cd377d",
   "metadata": {},
   "source": [
    "Subtraction"
   ]
  },
  {
   "cell_type": "code",
   "execution_count": 3,
   "id": "80e28f54-6aac-4151-9a4c-77f05dcf3ee1",
   "metadata": {},
   "outputs": [
    {
     "data": {
      "text/plain": [
       "5"
      ]
     },
     "execution_count": 3,
     "metadata": {},
     "output_type": "execute_result"
    }
   ],
   "source": [
    "7 - 2"
   ]
  },
  {
   "cell_type": "markdown",
   "id": "d7e6792e-cef5-4e65-b4f5-3bfe892cb8d8",
   "metadata": {},
   "source": [
    "Division"
   ]
  },
  {
   "cell_type": "code",
   "execution_count": 4,
   "id": "5d0870cb-e8a7-45b5-a1e7-202156b6a692",
   "metadata": {},
   "outputs": [
    {
     "data": {
      "text/plain": [
       "4.0"
      ]
     },
     "execution_count": 4,
     "metadata": {},
     "output_type": "execute_result"
    }
   ],
   "source": [
    "8 / 2"
   ]
  },
  {
   "cell_type": "markdown",
   "id": "f3269251-22fa-4df3-aaeb-ecab53bfc2fb",
   "metadata": {},
   "source": [
    "Multiplication"
   ]
  },
  {
   "cell_type": "code",
   "execution_count": 5,
   "id": "f66bc5bc-ae57-415c-adeb-dd16e8e0481d",
   "metadata": {},
   "outputs": [
    {
     "data": {
      "text/plain": [
       "12"
      ]
     },
     "execution_count": 5,
     "metadata": {},
     "output_type": "execute_result"
    }
   ],
   "source": [
    "3 * 4"
   ]
  },
  {
   "cell_type": "markdown",
   "id": "d89a7aed-109c-47f1-814f-56f66b9bbe3d",
   "metadata": {
    "jupyter": {
     "source_hidden": true
    }
   },
   "source": [
    "Modulo or \"Mod\" Operator"
   ]
  },
  {
   "cell_type": "code",
   "execution_count": 7,
   "id": "57d1f2e9-60b1-45ac-9289-929d74a84df7",
   "metadata": {},
   "outputs": [
    {
     "data": {
      "text/plain": [
       "1"
      ]
     },
     "execution_count": 7,
     "metadata": {},
     "output_type": "execute_result"
    }
   ],
   "source": [
    "5 % 2"
   ]
  },
  {
   "cell_type": "code",
   "execution_count": 9,
   "id": "f5b5b043-da5f-425d-8b73-527133580478",
   "metadata": {},
   "outputs": [
    {
     "data": {
      "text/plain": [
       "2"
      ]
     },
     "execution_count": 9,
     "metadata": {},
     "output_type": "execute_result"
    }
   ],
   "source": [
    "41 % 3"
   ]
  },
  {
   "cell_type": "markdown",
   "id": "dc84aadb-5366-4c3f-8ebf-9ad212d5a6a3",
   "metadata": {},
   "source": [
    "Power "
   ]
  },
  {
   "cell_type": "code",
   "execution_count": 10,
   "id": "2be07f8c-57cd-471f-ad59-33c3a8f0c0b5",
   "metadata": {},
   "outputs": [
    {
     "data": {
      "text/plain": [
       "8"
      ]
     },
     "execution_count": 10,
     "metadata": {},
     "output_type": "execute_result"
    }
   ],
   "source": [
    "2 ** 3"
   ]
  },
  {
   "cell_type": "code",
   "execution_count": 11,
   "id": "873c44cd-c9ea-4447-8e21-75b57ac25f16",
   "metadata": {},
   "outputs": [
    {
     "data": {
      "text/plain": [
       "36"
      ]
     },
     "execution_count": 11,
     "metadata": {},
     "output_type": "execute_result"
    }
   ],
   "source": [
    "6 ** 2"
   ]
  },
  {
   "cell_type": "code",
   "execution_count": null,
   "id": "f8bccd81-78f6-480b-a08a-3ec45b765e5f",
   "metadata": {},
   "outputs": [],
   "source": []
  }
 ],
 "metadata": {
  "kernelspec": {
   "display_name": "Python [conda env:base] *",
   "language": "python",
   "name": "conda-base-py"
  },
  "language_info": {
   "codemirror_mode": {
    "name": "ipython",
    "version": 3
   },
   "file_extension": ".py",
   "mimetype": "text/x-python",
   "name": "python",
   "nbconvert_exporter": "python",
   "pygments_lexer": "ipython3",
   "version": "3.12.7"
  }
 },
 "nbformat": 4,
 "nbformat_minor": 5
}
