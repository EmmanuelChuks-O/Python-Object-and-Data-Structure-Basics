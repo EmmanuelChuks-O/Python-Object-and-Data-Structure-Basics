{
 "cells": [
  {
   "cell_type": "markdown",
   "id": "7a7b6b4f-5ecb-4e92-b394-95d8c3a73446",
   "metadata": {},
   "source": [
    "Dictionaries "
   ]
  },
  {
   "cell_type": "code",
   "execution_count": 2,
   "id": "e8f9486c-f43e-43f1-ab47-a941cdd8dbb4",
   "metadata": {},
   "outputs": [],
   "source": [
    "my_dict = {\"name\":\"Emmanuel Okoh\", \"age\":29, \"location\":\"Toronto\", \"dateofbirth\":11}"
   ]
  },
  {
   "cell_type": "code",
   "execution_count": 3,
   "id": "caa49475-4ad5-4a6d-9a04-4abe0b208e38",
   "metadata": {},
   "outputs": [
    {
     "data": {
      "text/plain": [
       "'Emmanuel Okoh'"
      ]
     },
     "execution_count": 3,
     "metadata": {},
     "output_type": "execute_result"
    }
   ],
   "source": [
    "my_dict[\"name\"]"
   ]
  },
  {
   "cell_type": "code",
   "execution_count": 4,
   "id": "32d41b93-eec5-4176-86c1-fd009019095d",
   "metadata": {},
   "outputs": [
    {
     "data": {
      "text/plain": [
       "'Toronto'"
      ]
     },
     "execution_count": 4,
     "metadata": {},
     "output_type": "execute_result"
    }
   ],
   "source": [
    "my_dict[\"location\"]"
   ]
  },
  {
   "cell_type": "code",
   "execution_count": 7,
   "id": "db4fea01-8324-482e-92f1-6e5c5ae9c14b",
   "metadata": {},
   "outputs": [],
   "source": [
    "my_identity = {\"name\":\"Emmanuel Okoh\", \"significicant numbers\":[11, 1996, 2], \"address\":{\"toronto\": 1461}}"
   ]
  },
  {
   "cell_type": "code",
   "execution_count": 8,
   "id": "d97aa97f-9991-441e-b0b3-59a77c4e2bff",
   "metadata": {},
   "outputs": [
    {
     "data": {
      "text/plain": [
       "{'name': 'Emmanuel Okoh',\n",
       " 'significicant numbers': [11, 1996, 2],\n",
       " 'address': {'toronto': 1461}}"
      ]
     },
     "execution_count": 8,
     "metadata": {},
     "output_type": "execute_result"
    }
   ],
   "source": [
    "my_identity"
   ]
  },
  {
   "cell_type": "code",
   "execution_count": 11,
   "id": "4447ba92-96a2-4194-acb2-ee1ff70b5d5b",
   "metadata": {},
   "outputs": [
    {
     "data": {
      "text/plain": [
       "1461"
      ]
     },
     "execution_count": 11,
     "metadata": {},
     "output_type": "execute_result"
    }
   ],
   "source": [
    "my_identity[\"address\"][\"toronto\"]"
   ]
  },
  {
   "cell_type": "code",
   "execution_count": 13,
   "id": "2f7f7245-0e59-4336-b796-7c312324f82b",
   "metadata": {},
   "outputs": [
    {
     "data": {
      "text/plain": [
       "'EMMANUEL OKOH'"
      ]
     },
     "execution_count": 13,
     "metadata": {},
     "output_type": "execute_result"
    }
   ],
   "source": [
    "my_identity[\"name\"].upper()"
   ]
  },
  {
   "cell_type": "markdown",
   "id": "074ec574-3538-40bd-84ad-fb2f2780867f",
   "metadata": {},
   "source": [
    "Add a new key and value"
   ]
  },
  {
   "cell_type": "code",
   "execution_count": 14,
   "id": "6ed7499f-7dd6-4ea6-b2c2-819ae19b9129",
   "metadata": {},
   "outputs": [],
   "source": [
    "my_identity[\"age\"]=29"
   ]
  },
  {
   "cell_type": "code",
   "execution_count": 15,
   "id": "0e5e011b-b89a-4892-9831-f490c4d8b0c7",
   "metadata": {},
   "outputs": [
    {
     "data": {
      "text/plain": [
       "{'name': 'Emmanuel Okoh',\n",
       " 'significicant numbers': [11, 1996, 2],\n",
       " 'address': {'toronto': 1461},\n",
       " 'age': 29}"
      ]
     },
     "execution_count": 15,
     "metadata": {},
     "output_type": "execute_result"
    }
   ],
   "source": [
    "my_identity"
   ]
  },
  {
   "cell_type": "code",
   "execution_count": 17,
   "id": "5262f5fb-92eb-4261-92f3-70059427a8b9",
   "metadata": {},
   "outputs": [
    {
     "data": {
      "text/plain": [
       "dict_keys(['name', 'significicant numbers', 'address', 'age'])"
      ]
     },
     "execution_count": 17,
     "metadata": {},
     "output_type": "execute_result"
    }
   ],
   "source": [
    "my_identity.keys()"
   ]
  },
  {
   "cell_type": "code",
   "execution_count": 18,
   "id": "4024f053-6469-43a7-9a76-1d758bdae1ff",
   "metadata": {},
   "outputs": [
    {
     "data": {
      "text/plain": [
       "dict_values(['Emmanuel Okoh', [11, 1996, 2], {'toronto': 1461}, 29])"
      ]
     },
     "execution_count": 18,
     "metadata": {},
     "output_type": "execute_result"
    }
   ],
   "source": [
    "my_identity.values()"
   ]
  },
  {
   "cell_type": "code",
   "execution_count": 19,
   "id": "ccac1210-26e8-4ed0-b5ae-9605756ff7f4",
   "metadata": {},
   "outputs": [
    {
     "data": {
      "text/plain": [
       "dict_items([('name', 'Emmanuel Okoh'), ('significicant numbers', [11, 1996, 2]), ('address', {'toronto': 1461}), ('age', 29)])"
      ]
     },
     "execution_count": 19,
     "metadata": {},
     "output_type": "execute_result"
    }
   ],
   "source": [
    "my_identity.items()"
   ]
  },
  {
   "cell_type": "code",
   "execution_count": null,
   "id": "7ffbb58f-294e-49f5-9d21-b9e4a402143d",
   "metadata": {},
   "outputs": [],
   "source": [
    "\n"
   ]
  }
 ],
 "metadata": {
  "kernelspec": {
   "display_name": "Python [conda env:base] *",
   "language": "python",
   "name": "conda-base-py"
  },
  "language_info": {
   "codemirror_mode": {
    "name": "ipython",
    "version": 3
   },
   "file_extension": ".py",
   "mimetype": "text/x-python",
   "name": "python",
   "nbconvert_exporter": "python",
   "pygments_lexer": "ipython3",
   "version": "3.12.7"
  }
 },
 "nbformat": 4,
 "nbformat_minor": 5
}
