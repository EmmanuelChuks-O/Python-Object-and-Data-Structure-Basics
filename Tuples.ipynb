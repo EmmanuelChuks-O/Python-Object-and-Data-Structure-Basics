{
 "cells": [
  {
   "cell_type": "markdown",
   "id": "523535f0-2683-46b7-bd5d-e07954841a70",
   "metadata": {},
   "source": [
    "Tuples"
   ]
  },
  {
   "cell_type": "code",
   "execution_count": 1,
   "id": "262bc035-6738-427e-a82b-a3b656de7fae",
   "metadata": {},
   "outputs": [],
   "source": [
    "data = ('Emmanuel', 29, 'Okoh', 1461)"
   ]
  },
  {
   "cell_type": "code",
   "execution_count": 2,
   "id": "7b6d26fc-85dc-4086-80fb-3f289f4fd48b",
   "metadata": {},
   "outputs": [
    {
     "data": {
      "text/plain": [
       "tuple"
      ]
     },
     "execution_count": 2,
     "metadata": {},
     "output_type": "execute_result"
    }
   ],
   "source": [
    "type(data)"
   ]
  },
  {
   "cell_type": "code",
   "execution_count": 4,
   "id": "73e74559-0066-432f-9355-4a2e86218f54",
   "metadata": {},
   "outputs": [],
   "source": [
    "my_data = ['Emmanuel', 29, 'Okoh', 1461]"
   ]
  },
  {
   "cell_type": "code",
   "execution_count": 5,
   "id": "0e49704c-a377-4435-a6fc-0c6d576e6cd4",
   "metadata": {},
   "outputs": [
    {
     "data": {
      "text/plain": [
       "list"
      ]
     },
     "execution_count": 5,
     "metadata": {},
     "output_type": "execute_result"
    }
   ],
   "source": [
    "type(my_data)"
   ]
  },
  {
   "cell_type": "code",
   "execution_count": 6,
   "id": "b9d28f03-e5dc-4e3c-8a4e-bb617ed03175",
   "metadata": {},
   "outputs": [
    {
     "data": {
      "text/plain": [
       "4"
      ]
     },
     "execution_count": 6,
     "metadata": {},
     "output_type": "execute_result"
    }
   ],
   "source": [
    "len(data)"
   ]
  },
  {
   "cell_type": "code",
   "execution_count": 7,
   "id": "fcfebd10-2d11-4483-84e6-b49fd5f5ff75",
   "metadata": {},
   "outputs": [
    {
     "data": {
      "text/plain": [
       "4"
      ]
     },
     "execution_count": 7,
     "metadata": {},
     "output_type": "execute_result"
    }
   ],
   "source": [
    "len(my_data)"
   ]
  },
  {
   "cell_type": "code",
   "execution_count": 8,
   "id": "a62993c3-c5e5-4aa8-ae96-6f7dbf1ad2a2",
   "metadata": {},
   "outputs": [
    {
     "data": {
      "text/plain": [
       "29"
      ]
     },
     "execution_count": 8,
     "metadata": {},
     "output_type": "execute_result"
    }
   ],
   "source": [
    "my_data[1]"
   ]
  },
  {
   "cell_type": "code",
   "execution_count": 13,
   "id": "491016e3-d5cb-404f-ac61-f63518cc0c81",
   "metadata": {},
   "outputs": [
    {
     "data": {
      "text/plain": [
       "1"
      ]
     },
     "execution_count": 13,
     "metadata": {},
     "output_type": "execute_result"
    }
   ],
   "source": [
    "my_data.count(29)"
   ]
  },
  {
   "cell_type": "code",
   "execution_count": 16,
   "id": "c64bac2f-e73b-4f0c-b94c-8b068020699d",
   "metadata": {},
   "outputs": [
    {
     "data": {
      "text/plain": [
       "2"
      ]
     },
     "execution_count": 16,
     "metadata": {},
     "output_type": "execute_result"
    }
   ],
   "source": [
    "my_data.index(\"Okoh\")"
   ]
  },
  {
   "cell_type": "code",
   "execution_count": null,
   "id": "a28965f9-fa14-457f-9649-cd365df6da76",
   "metadata": {},
   "outputs": [],
   "source": []
  },
  {
   "cell_type": "code",
   "execution_count": null,
   "id": "826a06b0-9506-47cf-815e-e385d4b3e260",
   "metadata": {},
   "outputs": [],
   "source": []
  },
  {
   "cell_type": "code",
   "execution_count": null,
   "id": "f940c951-a17c-4b11-83cb-629c48c2aa9c",
   "metadata": {},
   "outputs": [],
   "source": []
  }
 ],
 "metadata": {
  "kernelspec": {
   "display_name": "Python [conda env:base] *",
   "language": "python",
   "name": "conda-base-py"
  },
  "language_info": {
   "codemirror_mode": {
    "name": "ipython",
    "version": 3
   },
   "file_extension": ".py",
   "mimetype": "text/x-python",
   "name": "python",
   "nbconvert_exporter": "python",
   "pygments_lexer": "ipython3",
   "version": "3.12.7"
  }
 },
 "nbformat": 4,
 "nbformat_minor": 5
}
