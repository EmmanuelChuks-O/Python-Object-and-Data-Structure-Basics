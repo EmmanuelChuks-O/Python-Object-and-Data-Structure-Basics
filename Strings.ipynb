{
 "cells": [
  {
   "cell_type": "markdown",
   "id": "f0b96168-f2d3-413d-98f1-8b658bd23a96",
   "metadata": {},
   "source": [
    "Strings"
   ]
  },
  {
   "cell_type": "code",
   "execution_count": 1,
   "id": "914f16c5-65bb-41ef-84ad-8f597f7d5d8c",
   "metadata": {},
   "outputs": [
    {
     "data": {
      "text/plain": [
       "'Hello Emmanuel'"
      ]
     },
     "execution_count": 1,
     "metadata": {},
     "output_type": "execute_result"
    }
   ],
   "source": [
    "\"Hello Emmanuel\""
   ]
  },
  {
   "cell_type": "code",
   "execution_count": 2,
   "id": "cd0926fb-7762-4774-9b3f-2565f83118de",
   "metadata": {},
   "outputs": [
    {
     "name": "stdout",
     "output_type": "stream",
     "text": [
      "Hello Emmanuel, How are you?\n"
     ]
    }
   ],
   "source": [
    "print(\"Hello Emmanuel, How are you?\")"
   ]
  },
  {
   "cell_type": "code",
   "execution_count": 5,
   "id": "47f0baee-3374-4e5b-82ab-89f3b9ccb114",
   "metadata": {},
   "outputs": [
    {
     "name": "stdout",
     "output_type": "stream",
     "text": [
      "Hello Emmanuel, \n",
      "What is the plan for today?\n"
     ]
    }
   ],
   "source": [
    "print(\"Hello Emmanuel, \\nWhat is the plan for today?\")"
   ]
  },
  {
   "cell_type": "markdown",
   "id": "96aba57c-2c42-435a-9846-e6f36cc5c98b",
   "metadata": {},
   "source": [
    "Length of a String"
   ]
  },
  {
   "cell_type": "code",
   "execution_count": 9,
   "id": "f3029ef9-0d59-442d-8e49-36b28ed507a5",
   "metadata": {},
   "outputs": [
    {
     "data": {
      "text/plain": [
       "8"
      ]
     },
     "execution_count": 9,
     "metadata": {},
     "output_type": "execute_result"
    }
   ],
   "source": [
    "len(\"Emmanuel\")"
   ]
  },
  {
   "cell_type": "code",
   "execution_count": 10,
   "id": "b8c5fd6d-3ee4-41e3-8b0a-ef05a3d40b59",
   "metadata": {},
   "outputs": [
    {
     "data": {
      "text/plain": [
       "13"
      ]
     },
     "execution_count": 10,
     "metadata": {},
     "output_type": "execute_result"
    }
   ],
   "source": [
    "len(\"Emmanuel Okoh\")"
   ]
  },
  {
   "cell_type": "markdown",
   "id": "864c006c-dff6-4da2-a1c8-68d2169dcd5d",
   "metadata": {},
   "source": [
    "String Indexing & Slicing"
   ]
  },
  {
   "cell_type": "code",
   "execution_count": 12,
   "id": "7c001a97-1567-439d-9546-7bf7505e6968",
   "metadata": {},
   "outputs": [],
   "source": [
    "my_name = \"Emmanuel Okoh\""
   ]
  },
  {
   "cell_type": "code",
   "execution_count": 13,
   "id": "d8306512-e646-4553-a411-183cf009bc61",
   "metadata": {},
   "outputs": [
    {
     "name": "stdout",
     "output_type": "stream",
     "text": [
      "Emmanuel Okoh\n"
     ]
    }
   ],
   "source": [
    "print(my_name)"
   ]
  },
  {
   "cell_type": "code",
   "execution_count": 14,
   "id": "0a1d27a3-3fdb-4a8a-b7b5-9fc453c0fe2d",
   "metadata": {},
   "outputs": [
    {
     "data": {
      "text/plain": [
       "'Emmanuel Okoh'"
      ]
     },
     "execution_count": 14,
     "metadata": {},
     "output_type": "execute_result"
    }
   ],
   "source": [
    "my_name[0:]"
   ]
  },
  {
   "cell_type": "code",
   "execution_count": 16,
   "id": "8042bc7d-cd37-4963-949c-31f619a841c2",
   "metadata": {},
   "outputs": [
    {
     "data": {
      "text/plain": [
       "'Emmanuel'"
      ]
     },
     "execution_count": 16,
     "metadata": {},
     "output_type": "execute_result"
    }
   ],
   "source": [
    "my_name[0:8]"
   ]
  },
  {
   "cell_type": "code",
   "execution_count": 23,
   "id": "79357df9-3d5a-49ea-b703-82c934c8a40f",
   "metadata": {},
   "outputs": [
    {
     "data": {
      "text/plain": [
       "'h'"
      ]
     },
     "execution_count": 23,
     "metadata": {},
     "output_type": "execute_result"
    }
   ],
   "source": [
    "my_name[-1]"
   ]
  },
  {
   "cell_type": "code",
   "execution_count": 25,
   "id": "2f1f1178-434f-4d27-8e65-daf5a5b81cbb",
   "metadata": {},
   "outputs": [
    {
     "data": {
      "text/plain": [
       "'anue'"
      ]
     },
     "execution_count": 25,
     "metadata": {},
     "output_type": "execute_result"
    }
   ],
   "source": [
    "my_name[3:7]"
   ]
  },
  {
   "cell_type": "code",
   "execution_count": 26,
   "id": "87c89e19-0caf-4b45-9f59-23f12cbc64e0",
   "metadata": {},
   "outputs": [
    {
     "data": {
      "text/plain": [
       "'Emmanuel Okoh'"
      ]
     },
     "execution_count": 26,
     "metadata": {},
     "output_type": "execute_result"
    }
   ],
   "source": [
    "my_name"
   ]
  },
  {
   "cell_type": "code",
   "execution_count": 27,
   "id": "05eb6c13-3394-4bf2-a25f-adc72b409053",
   "metadata": {},
   "outputs": [
    {
     "data": {
      "text/plain": [
       "'E'"
      ]
     },
     "execution_count": 27,
     "metadata": {},
     "output_type": "execute_result"
    }
   ],
   "source": [
    "my_name[0]"
   ]
  },
  {
   "cell_type": "code",
   "execution_count": 28,
   "id": "b59a7ac7-669f-42d1-bfb4-86a098bb78a9",
   "metadata": {},
   "outputs": [
    {
     "data": {
      "text/plain": [
       "'manuel Okoh'"
      ]
     },
     "execution_count": 28,
     "metadata": {},
     "output_type": "execute_result"
    }
   ],
   "source": [
    "my_name[2:]"
   ]
  },
  {
   "cell_type": "code",
   "execution_count": 29,
   "id": "0f281bc3-a4eb-4736-8471-7d302579d247",
   "metadata": {},
   "outputs": [
    {
     "data": {
      "text/plain": [
       "'Emm'"
      ]
     },
     "execution_count": 29,
     "metadata": {},
     "output_type": "execute_result"
    }
   ],
   "source": [
    "my_name[:3]"
   ]
  },
  {
   "cell_type": "code",
   "execution_count": 31,
   "id": "2de94147-7768-444d-85b1-d4e7b353ec87",
   "metadata": {},
   "outputs": [
    {
     "data": {
      "text/plain": [
       "'an'"
      ]
     },
     "execution_count": 31,
     "metadata": {},
     "output_type": "execute_result"
    }
   ],
   "source": [
    "my_name[3:5]"
   ]
  },
  {
   "cell_type": "code",
   "execution_count": 32,
   "id": "1f899f62-0ede-41c1-afd7-5fabc2096eb2",
   "metadata": {},
   "outputs": [
    {
     "data": {
      "text/plain": [
       "'Emmanuel Okoh'"
      ]
     },
     "execution_count": 32,
     "metadata": {},
     "output_type": "execute_result"
    }
   ],
   "source": [
    "my_name[::]"
   ]
  },
  {
   "cell_type": "code",
   "execution_count": 33,
   "id": "579c4305-bd3a-484d-af4f-9db41f69209b",
   "metadata": {},
   "outputs": [
    {
     "data": {
      "text/plain": [
       "'Emne kh'"
      ]
     },
     "execution_count": 33,
     "metadata": {},
     "output_type": "execute_result"
    }
   ],
   "source": [
    "my_name[::2]"
   ]
  },
  {
   "cell_type": "code",
   "execution_count": 34,
   "id": "f8bae473-9190-4089-9a18-1a1f436479c6",
   "metadata": {},
   "outputs": [
    {
     "data": {
      "text/plain": [
       "'hokO leunammE'"
      ]
     },
     "execution_count": 34,
     "metadata": {},
     "output_type": "execute_result"
    }
   ],
   "source": [
    "my_name[::-1]"
   ]
  },
  {
   "cell_type": "markdown",
   "id": "fd480d24-0548-4d32-9133-da03f9a6091c",
   "metadata": {},
   "source": [
    "Immutability"
   ]
  },
  {
   "cell_type": "code",
   "execution_count": 53,
   "id": "4eb81f3f-4c27-4de5-af0f-cad0b9cd4602",
   "metadata": {},
   "outputs": [],
   "source": [
    "my_name = \"Emmanuel Okoh\""
   ]
  },
  {
   "cell_type": "code",
   "execution_count": 54,
   "id": "f5733285-15d8-4f4a-a8d2-dc2b661fc6c1",
   "metadata": {},
   "outputs": [],
   "source": [
    "# my_name[0] = \"Chuks\""
   ]
  },
  {
   "cell_type": "code",
   "execution_count": 57,
   "id": "58857c4d-86a5-4b50-bec7-6c505ab67cd5",
   "metadata": {},
   "outputs": [],
   "source": [
    "my_name = my_name + \" Chuks\""
   ]
  },
  {
   "cell_type": "code",
   "execution_count": 58,
   "id": "d12c1f8a-96bc-46ba-8f99-cc47054a48ec",
   "metadata": {},
   "outputs": [
    {
     "data": {
      "text/plain": [
       "'Emmanuel Okoh Chuks'"
      ]
     },
     "execution_count": 58,
     "metadata": {},
     "output_type": "execute_result"
    }
   ],
   "source": [
    "my_name"
   ]
  },
  {
   "cell_type": "code",
   "execution_count": 59,
   "id": "3eb54200-e5af-4384-83e9-91231bed2745",
   "metadata": {},
   "outputs": [
    {
     "data": {
      "text/plain": [
       "'Emmanuel Okoh ChuksEmmanuel Okoh Chuks'"
      ]
     },
     "execution_count": 59,
     "metadata": {},
     "output_type": "execute_result"
    }
   ],
   "source": [
    "my_name * 2"
   ]
  },
  {
   "cell_type": "code",
   "execution_count": 60,
   "id": "4c31a70b-11fb-40e9-adf3-30b191ed7ac4",
   "metadata": {},
   "outputs": [
    {
     "data": {
      "text/plain": [
       "'Emmanuel Okoh Chuks'"
      ]
     },
     "execution_count": 60,
     "metadata": {},
     "output_type": "execute_result"
    }
   ],
   "source": [
    "my_name"
   ]
  },
  {
   "cell_type": "code",
   "execution_count": 61,
   "id": "d7ad2e7d-85e4-4563-ab7b-05e67a36e6fb",
   "metadata": {},
   "outputs": [
    {
     "data": {
      "text/plain": [
       "'emmanuel okoh chuks'"
      ]
     },
     "execution_count": 61,
     "metadata": {},
     "output_type": "execute_result"
    }
   ],
   "source": [
    "my_name.lower()"
   ]
  },
  {
   "cell_type": "code",
   "execution_count": 62,
   "id": "32a625db-fbe3-4816-9f58-51361a494a65",
   "metadata": {},
   "outputs": [
    {
     "data": {
      "text/plain": [
       "'EMMANUEL OKOH CHUKS'"
      ]
     },
     "execution_count": 62,
     "metadata": {},
     "output_type": "execute_result"
    }
   ],
   "source": [
    "my_name.upper()"
   ]
  },
  {
   "cell_type": "code",
   "execution_count": 65,
   "id": "031f7b01-ade4-4565-a7cb-e6b40dc6992a",
   "metadata": {},
   "outputs": [
    {
     "name": "stdout",
     "output_type": "stream",
     "text": [
      "emmanuel okoh chuks\n"
     ]
    }
   ],
   "source": [
    "print(my_name.lower())"
   ]
  },
  {
   "cell_type": "code",
   "execution_count": 67,
   "id": "9e217f83-70cc-4809-ad0e-d22a3740c3f9",
   "metadata": {},
   "outputs": [
    {
     "name": "stdout",
     "output_type": "stream",
     "text": [
      "EMMANUEL OKOH CHUKS\n"
     ]
    }
   ],
   "source": [
    "print(my_name.upper())"
   ]
  },
  {
   "cell_type": "code",
   "execution_count": 68,
   "id": "2dea25a8-e7f5-4307-a43d-7bbe6c1b91e2",
   "metadata": {},
   "outputs": [
    {
     "data": {
      "text/plain": [
       "['Emmanuel', 'Okoh', 'Chuks']"
      ]
     },
     "execution_count": 68,
     "metadata": {},
     "output_type": "execute_result"
    }
   ],
   "source": [
    "my_name.split()"
   ]
  },
  {
   "cell_type": "code",
   "execution_count": 70,
   "id": "cab6e783-5612-48f6-aafc-87dfb3cba658",
   "metadata": {},
   "outputs": [
    {
     "data": {
      "text/plain": [
       "['Emmanuel O', 'oh Chu', 's']"
      ]
     },
     "execution_count": 70,
     "metadata": {},
     "output_type": "execute_result"
    }
   ],
   "source": [
    "my_name.split(\"k\")"
   ]
  },
  {
   "cell_type": "code",
   "execution_count": 71,
   "id": "682d27fb-b1e9-4896-99d3-1dc45ff4c649",
   "metadata": {},
   "outputs": [
    {
     "data": {
      "text/plain": [
       "'Emmanuel Okoh Chuks'"
      ]
     },
     "execution_count": 71,
     "metadata": {},
     "output_type": "execute_result"
    }
   ],
   "source": [
    "my_name"
   ]
  },
  {
   "cell_type": "code",
   "execution_count": null,
   "id": "826a3b61-28c4-4448-a8b5-b2c12bbb2cbf",
   "metadata": {},
   "outputs": [],
   "source": []
  }
 ],
 "metadata": {
  "kernelspec": {
   "display_name": "Python [conda env:base] *",
   "language": "python",
   "name": "conda-base-py"
  },
  "language_info": {
   "codemirror_mode": {
    "name": "ipython",
    "version": 3
   },
   "file_extension": ".py",
   "mimetype": "text/x-python",
   "name": "python",
   "nbconvert_exporter": "python",
   "pygments_lexer": "ipython3",
   "version": "3.12.7"
  }
 },
 "nbformat": 4,
 "nbformat_minor": 5
}
