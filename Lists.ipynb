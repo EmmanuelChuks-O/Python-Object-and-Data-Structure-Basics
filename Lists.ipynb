{
 "cells": [
  {
   "cell_type": "markdown",
   "id": "35730738-3d9e-4a59-9267-2b177ac93bdd",
   "metadata": {},
   "source": [
    "List"
   ]
  },
  {
   "cell_type": "code",
   "execution_count": 1,
   "id": "353c6ba1-f836-4ec0-b58a-5bfa2f8372da",
   "metadata": {},
   "outputs": [],
   "source": [
    "my_identity = [\"Emmanuel\", \"Okoh\", 29, \"Toronto\", 1865.0]"
   ]
  },
  {
   "cell_type": "code",
   "execution_count": 2,
   "id": "f48b043d-88fa-41e1-b6b8-902952069391",
   "metadata": {},
   "outputs": [
    {
     "data": {
      "text/plain": [
       "5"
      ]
     },
     "execution_count": 2,
     "metadata": {},
     "output_type": "execute_result"
    }
   ],
   "source": [
    "len(my_identity)"
   ]
  },
  {
   "cell_type": "code",
   "execution_count": 4,
   "id": "0e214a16-9891-42e0-8044-2bf5241108fa",
   "metadata": {},
   "outputs": [
    {
     "data": {
      "text/plain": [
       "29"
      ]
     },
     "execution_count": 4,
     "metadata": {},
     "output_type": "execute_result"
    }
   ],
   "source": [
    "my_identity[2]"
   ]
  },
  {
   "cell_type": "code",
   "execution_count": 5,
   "id": "5f46d6ef-f759-4162-be97-89da3195b052",
   "metadata": {},
   "outputs": [
    {
     "data": {
      "text/plain": [
       "[]"
      ]
     },
     "execution_count": 5,
     "metadata": {},
     "output_type": "execute_result"
    }
   ],
   "source": [
    "my_identity[2:0]"
   ]
  },
  {
   "cell_type": "code",
   "execution_count": 8,
   "id": "80a35824-d574-49c1-b22f-7c2a703f983f",
   "metadata": {},
   "outputs": [],
   "source": [
    "middle_name = [\"Chuks\"]"
   ]
  },
  {
   "cell_type": "code",
   "execution_count": 9,
   "id": "d0f9184e-713b-4b31-a04c-1792ede4c082",
   "metadata": {},
   "outputs": [],
   "source": [
    "new_identity = my_identity + middle_name"
   ]
  },
  {
   "cell_type": "code",
   "execution_count": 11,
   "id": "68f25401-aa7a-4666-9b37-7bf04b2c4e31",
   "metadata": {},
   "outputs": [
    {
     "name": "stdout",
     "output_type": "stream",
     "text": [
      "['Emmanuel', 'Okoh', 29, 'Toronto', 1865.0, 'Chuks']\n"
     ]
    }
   ],
   "source": [
    "print(new_identity)"
   ]
  },
  {
   "cell_type": "code",
   "execution_count": 12,
   "id": "9477f1cb-e3ae-43f3-94cf-94a5219b42d9",
   "metadata": {},
   "outputs": [],
   "source": [
    "new_identity[4] = 65"
   ]
  },
  {
   "cell_type": "code",
   "execution_count": 13,
   "id": "867912a4-16dd-4885-8dbc-ea28e03fa4c3",
   "metadata": {},
   "outputs": [
    {
     "data": {
      "text/plain": [
       "['Emmanuel', 'Okoh', 29, 'Toronto', 65, 'Chuks']"
      ]
     },
     "execution_count": 13,
     "metadata": {},
     "output_type": "execute_result"
    }
   ],
   "source": [
    "new_identity"
   ]
  },
  {
   "cell_type": "code",
   "execution_count": 15,
   "id": "771a2cf8-ca65-4d69-bb4b-53896ad1abcb",
   "metadata": {},
   "outputs": [],
   "source": [
    "new_identity[4] = 1461"
   ]
  },
  {
   "cell_type": "code",
   "execution_count": 18,
   "id": "bfe452d5-7318-4f29-9d61-f22026317c0c",
   "metadata": {},
   "outputs": [
    {
     "data": {
      "text/plain": [
       "['Emmanuel', 'Okoh', 29, 'Toronto', 1461, 'Chuks']"
      ]
     },
     "execution_count": 18,
     "metadata": {},
     "output_type": "execute_result"
    }
   ],
   "source": [
    "new_identity"
   ]
  },
  {
   "cell_type": "code",
   "execution_count": 21,
   "id": "baf46e10-b2de-4777-8cb5-e6333cf5990a",
   "metadata": {},
   "outputs": [],
   "source": [
    "new_identity[0] = \"EMMANUEL\""
   ]
  },
  {
   "cell_type": "code",
   "execution_count": 22,
   "id": "e2f278fa-75dc-4644-a98b-589884cf303b",
   "metadata": {},
   "outputs": [
    {
     "data": {
      "text/plain": [
       "['EMMANUEL', 'Okoh', 29, 'Toronto', 1461, 'Chuks']"
      ]
     },
     "execution_count": 22,
     "metadata": {},
     "output_type": "execute_result"
    }
   ],
   "source": [
    "new_identity"
   ]
  },
  {
   "cell_type": "code",
   "execution_count": 23,
   "id": "40910bba-9a77-421c-bdf0-4230fe49859f",
   "metadata": {},
   "outputs": [],
   "source": [
    "new_identity.append(\"God with us\")"
   ]
  },
  {
   "cell_type": "code",
   "execution_count": 24,
   "id": "d0fcd6cb-0c6c-4b92-974f-5a773db46156",
   "metadata": {},
   "outputs": [
    {
     "data": {
      "text/plain": [
       "['EMMANUEL', 'Okoh', 29, 'Toronto', 1461, 'Chuks', 'God with us']"
      ]
     },
     "execution_count": 24,
     "metadata": {},
     "output_type": "execute_result"
    }
   ],
   "source": [
    "new_identity"
   ]
  },
  {
   "cell_type": "code",
   "execution_count": 25,
   "id": "d33f8d1d-4c3d-45e5-b201-6a3a44179348",
   "metadata": {},
   "outputs": [
    {
     "data": {
      "text/plain": [
       "'Okoh'"
      ]
     },
     "execution_count": 25,
     "metadata": {},
     "output_type": "execute_result"
    }
   ],
   "source": [
    "new_identity.pop(1)"
   ]
  },
  {
   "cell_type": "code",
   "execution_count": 26,
   "id": "92c9a7f3-b918-4383-b24b-7d7b78961c0b",
   "metadata": {},
   "outputs": [
    {
     "data": {
      "text/plain": [
       "['EMMANUEL', 29, 'Toronto', 1461, 'Chuks', 'God with us']"
      ]
     },
     "execution_count": 26,
     "metadata": {},
     "output_type": "execute_result"
    }
   ],
   "source": [
    "new_identity"
   ]
  },
  {
   "cell_type": "code",
   "execution_count": 28,
   "id": "5bafcea0-0830-456e-9a29-0b789f9927a0",
   "metadata": {},
   "outputs": [],
   "source": [
    "new_identity.reverse()"
   ]
  },
  {
   "cell_type": "code",
   "execution_count": 29,
   "id": "c6854bb1-43bc-4508-97bf-1bd9ee4002c7",
   "metadata": {},
   "outputs": [
    {
     "data": {
      "text/plain": [
       "['God with us', 'Chuks', 1461, 'Toronto', 29, 'EMMANUEL']"
      ]
     },
     "execution_count": 29,
     "metadata": {},
     "output_type": "execute_result"
    }
   ],
   "source": [
    "new_identity"
   ]
  },
  {
   "cell_type": "code",
   "execution_count": 31,
   "id": "2c248929-e060-463a-b104-2e3191d61929",
   "metadata": {},
   "outputs": [],
   "source": [
    "new_list = [1, 3, 5, 7, 9]"
   ]
  },
  {
   "cell_type": "code",
   "execution_count": 32,
   "id": "be77d9ad-c574-4e17-9b69-6c695df16d04",
   "metadata": {},
   "outputs": [],
   "source": [
    "new_list.sort()"
   ]
  },
  {
   "cell_type": "code",
   "execution_count": 33,
   "id": "dc003aaf-fbf8-4344-8a37-fcbd7a50f7f9",
   "metadata": {},
   "outputs": [
    {
     "data": {
      "text/plain": [
       "[1, 3, 5, 7, 9]"
      ]
     },
     "execution_count": 33,
     "metadata": {},
     "output_type": "execute_result"
    }
   ],
   "source": [
    "new_list"
   ]
  },
  {
   "cell_type": "code",
   "execution_count": null,
   "id": "ce17b624-918d-471f-a5f6-679d6e78fec9",
   "metadata": {},
   "outputs": [],
   "source": []
  }
 ],
 "metadata": {
  "kernelspec": {
   "display_name": "Python [conda env:base] *",
   "language": "python",
   "name": "conda-base-py"
  },
  "language_info": {
   "codemirror_mode": {
    "name": "ipython",
    "version": 3
   },
   "file_extension": ".py",
   "mimetype": "text/x-python",
   "name": "python",
   "nbconvert_exporter": "python",
   "pygments_lexer": "ipython3",
   "version": "3.12.7"
  }
 },
 "nbformat": 4,
 "nbformat_minor": 5
}
